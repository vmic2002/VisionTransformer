{
  "cells": [
    {
      "cell_type": "markdown",
      "metadata": {
        "id": "8TnT80MqQqGq"
      },
      "source": [
        "## TD2. Vision Transformers\n",
        "By Nicolas Dufour\n",
        "\n",
        "In this TD, we will implement the Transformers architecture. Transformers has been a key architecture in deep learning for the past 5 years.\n",
        "\n",
        "It has first began with NLP, then came audio and finally, since 2020, computer vision.\n",
        "We will implement every block that makes a transformer from scratch and we will try to create a deep understanding of what is happening.\n",
        "Here is a figure for the transformer architecture:\n",
        "\n",
        "\n",
        "<img src=\"https://www.researchgate.net/profile/Miruna-Gheata/publication/355339249/figure/fig1/AS:1079476452622337@1634378650979/Encoder-decoder-architecture-of-the-Transformer-developed-by-Vaswani-et-al-28.ppm\" width=768>\n",
        "\n",
        "## Instructions\n",
        "In `pytorch` you must avoid using for loops at all cost. It's almost always possible to find a vectorized version of the operation you want to implement.\n",
        "\n",
        "**In this TP, the only for-loop you can do is the training loop.**"
      ]
    },
    {
      "cell_type": "code",
      "execution_count": 1,
      "metadata": {
        "colab": {
          "base_uri": "https://localhost:8080/"
        },
        "id": "kWexUvqUQqGr",
        "outputId": "20e31d53-2bea-4fed-ad81-33d597410891"
      },
      "outputs": [
        {
          "output_type": "stream",
          "name": "stdout",
          "text": [
            "Requirement already satisfied: einops in /usr/local/lib/python3.11/dist-packages (0.8.0)\n",
            "Requirement already satisfied: timm in /usr/local/lib/python3.11/dist-packages (1.0.13)\n",
            "Requirement already satisfied: torch in /usr/local/lib/python3.11/dist-packages (from timm) (2.5.1+cu121)\n",
            "Requirement already satisfied: torchvision in /usr/local/lib/python3.11/dist-packages (from timm) (0.20.1+cu121)\n",
            "Requirement already satisfied: pyyaml in /usr/local/lib/python3.11/dist-packages (from timm) (6.0.2)\n",
            "Requirement already satisfied: huggingface_hub in /usr/local/lib/python3.11/dist-packages (from timm) (0.27.1)\n",
            "Requirement already satisfied: safetensors in /usr/local/lib/python3.11/dist-packages (from timm) (0.5.2)\n",
            "Requirement already satisfied: filelock in /usr/local/lib/python3.11/dist-packages (from huggingface_hub->timm) (3.16.1)\n",
            "Requirement already satisfied: fsspec>=2023.5.0 in /usr/local/lib/python3.11/dist-packages (from huggingface_hub->timm) (2024.10.0)\n",
            "Requirement already satisfied: packaging>=20.9 in /usr/local/lib/python3.11/dist-packages (from huggingface_hub->timm) (24.2)\n",
            "Requirement already satisfied: requests in /usr/local/lib/python3.11/dist-packages (from huggingface_hub->timm) (2.32.3)\n",
            "Requirement already satisfied: tqdm>=4.42.1 in /usr/local/lib/python3.11/dist-packages (from huggingface_hub->timm) (4.67.1)\n",
            "Requirement already satisfied: typing-extensions>=3.7.4.3 in /usr/local/lib/python3.11/dist-packages (from huggingface_hub->timm) (4.12.2)\n",
            "Requirement already satisfied: networkx in /usr/local/lib/python3.11/dist-packages (from torch->timm) (3.4.2)\n",
            "Requirement already satisfied: jinja2 in /usr/local/lib/python3.11/dist-packages (from torch->timm) (3.1.5)\n",
            "Requirement already satisfied: nvidia-cuda-nvrtc-cu12==12.1.105 in /usr/local/lib/python3.11/dist-packages (from torch->timm) (12.1.105)\n",
            "Requirement already satisfied: nvidia-cuda-runtime-cu12==12.1.105 in /usr/local/lib/python3.11/dist-packages (from torch->timm) (12.1.105)\n",
            "Requirement already satisfied: nvidia-cuda-cupti-cu12==12.1.105 in /usr/local/lib/python3.11/dist-packages (from torch->timm) (12.1.105)\n",
            "Requirement already satisfied: nvidia-cudnn-cu12==9.1.0.70 in /usr/local/lib/python3.11/dist-packages (from torch->timm) (9.1.0.70)\n",
            "Requirement already satisfied: nvidia-cublas-cu12==12.1.3.1 in /usr/local/lib/python3.11/dist-packages (from torch->timm) (12.1.3.1)\n",
            "Requirement already satisfied: nvidia-cufft-cu12==11.0.2.54 in /usr/local/lib/python3.11/dist-packages (from torch->timm) (11.0.2.54)\n",
            "Requirement already satisfied: nvidia-curand-cu12==10.3.2.106 in /usr/local/lib/python3.11/dist-packages (from torch->timm) (10.3.2.106)\n",
            "Requirement already satisfied: nvidia-cusolver-cu12==11.4.5.107 in /usr/local/lib/python3.11/dist-packages (from torch->timm) (11.4.5.107)\n",
            "Requirement already satisfied: nvidia-cusparse-cu12==12.1.0.106 in /usr/local/lib/python3.11/dist-packages (from torch->timm) (12.1.0.106)\n",
            "Requirement already satisfied: nvidia-nccl-cu12==2.21.5 in /usr/local/lib/python3.11/dist-packages (from torch->timm) (2.21.5)\n",
            "Requirement already satisfied: nvidia-nvtx-cu12==12.1.105 in /usr/local/lib/python3.11/dist-packages (from torch->timm) (12.1.105)\n",
            "Requirement already satisfied: triton==3.1.0 in /usr/local/lib/python3.11/dist-packages (from torch->timm) (3.1.0)\n",
            "Requirement already satisfied: sympy==1.13.1 in /usr/local/lib/python3.11/dist-packages (from torch->timm) (1.13.1)\n",
            "Requirement already satisfied: nvidia-nvjitlink-cu12 in /usr/local/lib/python3.11/dist-packages (from nvidia-cusolver-cu12==11.4.5.107->torch->timm) (12.6.85)\n",
            "Requirement already satisfied: mpmath<1.4,>=1.1.0 in /usr/local/lib/python3.11/dist-packages (from sympy==1.13.1->torch->timm) (1.3.0)\n",
            "Requirement already satisfied: numpy in /usr/local/lib/python3.11/dist-packages (from torchvision->timm) (1.26.4)\n",
            "Requirement already satisfied: pillow!=8.3.*,>=5.3.0 in /usr/local/lib/python3.11/dist-packages (from torchvision->timm) (11.1.0)\n",
            "Requirement already satisfied: MarkupSafe>=2.0 in /usr/local/lib/python3.11/dist-packages (from jinja2->torch->timm) (3.0.2)\n",
            "Requirement already satisfied: charset-normalizer<4,>=2 in /usr/local/lib/python3.11/dist-packages (from requests->huggingface_hub->timm) (3.4.1)\n",
            "Requirement already satisfied: idna<4,>=2.5 in /usr/local/lib/python3.11/dist-packages (from requests->huggingface_hub->timm) (3.10)\n",
            "Requirement already satisfied: urllib3<3,>=1.21.1 in /usr/local/lib/python3.11/dist-packages (from requests->huggingface_hub->timm) (2.3.0)\n",
            "Requirement already satisfied: certifi>=2017.4.17 in /usr/local/lib/python3.11/dist-packages (from requests->huggingface_hub->timm) (2024.12.14)\n"
          ]
        }
      ],
      "source": [
        "!pip install einops\n",
        "!pip install timm"
      ]
    },
    {
      "cell_type": "code",
      "execution_count": 2,
      "metadata": {
        "colab": {
          "base_uri": "https://localhost:8080/"
        },
        "id": "9BebXtCPQqGs",
        "outputId": "5ce15e80-51fd-4c93-e8bf-fb826d76dfc7"
      },
      "outputs": [
        {
          "output_type": "stream",
          "name": "stdout",
          "text": [
            "cuda:0\n"
          ]
        }
      ],
      "source": [
        "import torch\n",
        "import torch.nn as nn\n",
        "import torch.nn.functional as F\n",
        "from torch.optim import AdamW\n",
        "import math\n",
        "from torchvision.datasets import CIFAR10\n",
        "from torch.utils.data import DataLoader\n",
        "from torchvision import transforms\n",
        "from tqdm import tqdm\n",
        "import matplotlib.pyplot as plt\n",
        "import numpy as np\n",
        "from einops import rearrange, repeat\n",
        "from PIL import Image\n",
        "from torchvision import transforms\n",
        "import requests\n",
        "\n",
        "torch.manual_seed(0)\n",
        "\n",
        "\n",
        "device = torch.device(\"cuda:0\" if torch.cuda.is_available() else \"cpu\")\n",
        "print(device)"
      ]
    },
    {
      "cell_type": "markdown",
      "metadata": {
        "id": "3rqnohGkQqGt"
      },
      "source": [
        "# Part 1. The attention mechanism"
      ]
    },
    {
      "cell_type": "markdown",
      "metadata": {
        "id": "8MA_xHcwQqGt"
      },
      "source": [
        "### Implementing the scaled dot-product attention mechanism\n",
        "\n",
        "The transformer architecture is built around one key block: The attention.\n",
        "The idea behind attention is the following. Imagine you want to retrieve information from a dictionary. The dictionnary is indexed by keys which maps to a particular value. Now, you have a query which will be matched against the keys of the dict and if you have a match, you will retrieve the associated value.\n",
        "Attention is very similar to this simple retrieval example. Now, with real data, we don't have this structure, we however are going to learn to create it.\n",
        "\n",
        "We have 2 sets of vectors (also named tokens). One is $X_{to}$ which is the destination set. We want to be able to map this set of tokens to queries. We achieve this by doing a linear projection of $X_{to}$ to obatain:  $Q = W_QX_{to}$\n",
        "\n",
        "The other set is $X_{from}$ the set from which we want to retrieve information. We will need to extract both keys and values from this set. We therefore do 2 linear projections of $X_{from}$ to obtain:  $K = W_KX_{from}$ and $V = W_VX_{from}$.\n",
        "\n",
        "Now, contrary to the dictionnary where queries and values are exact matchs, we don't have this here. Therefore, we will perform a softer match by computing the similarity matrix between $Q$ and $K$. Then for each $Q$, we want to output the values that have the higher similarity. We therefore output the weighted sum of the values, weighted by the softmax of the similarity (also called the attention matrix).\n",
        "\n",
        "Finally, the attention operation is given by the cross attention:\n",
        "\n",
        "$$\n",
        "A(Q,K,V) = \\text{SoftMax}(\\frac{QK^T}{\\sqrt{d_k}})V\n",
        "$$\n",
        "\n",
        "We divide the similarity by $\\sqrt{d_k}$ for stability reason to avoid the similarity to explode with big vectors which would lead to very sharp attention coeficients."
      ]
    },
    {
      "cell_type": "markdown",
      "metadata": {
        "id": "rP5bmjf4QqGt"
      },
      "source": [
        "#### Question 1.\n",
        "Implement the attention operation, use  `torch.einsum` to easily compute the similarity matrix."
      ]
    },
    {
      "cell_type": "code",
      "execution_count": 3,
      "metadata": {
        "id": "L7uzzg6nQqGt"
      },
      "outputs": [],
      "source": [
        "# Xfrom is sequence from encoder output, which has to go through 2 layers (independently), to produce K and V which are used for cross attention in decoder\n",
        "# Xto is decoder input sequence, projected through a linear layer to produce Q\n",
        "\n",
        "class Attention(nn.Module):\n",
        "    def __init__(self, x_to_dim, x_from_dim, hidden_dim,):\n",
        "        # To complete\n",
        "        super(Attention, self).__init__()\n",
        "        self.x_to_proj = nn.Linear(x_to_dim, hidden_dim)\n",
        "        self.x_from_proj_key = nn.Linear(x_from_dim, hidden_dim)\n",
        "        self.x_from_proj_val = nn.Linear(x_from_dim, hidden_dim)\n",
        "        self.scale = hidden_dim ** 0.5\n",
        "\n",
        "\n",
        "\n",
        "    def forward(self, x_to, x_from):\n",
        "        # x_to = [batch size, x_to_len, x_to_dim]\n",
        "        # x_from = [batch size, x_from_len, x_from_dim]\n",
        "\n",
        "        # To complete\n",
        "        Q = self.x_to_proj(x_to)  # [batch size, x_to_len, hidden_dim]\n",
        "        K = self.x_from_proj_key(x_from)  # [batch size, x_from_len, hidden_dim]\n",
        "        V = self.x_from_proj_val(x_from)  # [batch size, x_from_len, hidden_dim]\n",
        "\n",
        "        # similarity matrix using einsum\n",
        "        similarity = torch.einsum('bih,bjh->bij', Q, K)\n",
        "        similarity = similarity / self.scale\n",
        "\n",
        "        # attention weights\n",
        "        attention = F.softmax(similarity, dim=-1)\n",
        "\n",
        "        #apply attention weights to V\n",
        "        x_to = torch.einsum('bij,bjh->bih', attention, V)\n",
        "\n",
        "        return x_to"
      ]
    },
    {
      "cell_type": "markdown",
      "metadata": {
        "id": "j3kCoe-CQqGt"
      },
      "source": [
        "### Multi-head attention\n",
        "\n",
        "We improve the above attention implementation by introducing multi-head attention. The idea here is that we compute the attention on subspaces of the $Q,K,V$ triplets.\n",
        "We split each vector in $n$ subsets and compute the attention for each subset. At the end, we concatenate every attention output and project it with an output projection.\n",
        "\n",
        "#### Question 2.\n",
        "Implement Multihead attention."
      ]
    },
    {
      "cell_type": "code",
      "execution_count": 4,
      "metadata": {
        "id": "WulZtTrkQqGt"
      },
      "outputs": [],
      "source": [
        "class MultiHeadAttention(nn.Module):\n",
        "    def __init__(self, x_to_dim, x_from_dim, hidden_dim, n_heads):\n",
        "        # To complete\n",
        "        super(MultiHeadAttention, self).__init__()\n",
        "        assert hidden_dim % n_heads == 0, \"hidden_dim must be divisible by n_heads\"\n",
        "\n",
        "        self.n_heads = n_heads\n",
        "        self.head_dim = hidden_dim // n_heads\n",
        "        self.scale = self.head_dim ** 0.5\n",
        "        self.hidden_dim = hidden_dim\n",
        "\n",
        "        self.linear_q = nn.Linear(x_to_dim, hidden_dim)\n",
        "        self.linear_k = nn.Linear(x_from_dim, hidden_dim)\n",
        "        self.linear_v = nn.Linear(x_from_dim, hidden_dim)\n",
        "        self.output_linear = nn.Linear(hidden_dim, hidden_dim)\n",
        "\n",
        "\n",
        "\n",
        "    def forward(self, x_to, x_from):\n",
        "        # x_to = [batch size, x_to_len, x_to_dim]\n",
        "        # x_from = [batch size, x_from_len, x_from_dim]\n",
        "\n",
        "        # To complete\n",
        "\n",
        "        #batch size is the number of samples processed in parallel,\n",
        "        #x to len is the length of each sequence (number of tokens), and\n",
        "        #x to dim is the dimensionality of each token representation\n",
        "\n",
        "        batch_size, x_to_len, _ = x_to.shape\n",
        "        _, x_from_len, _ = x_from.shape\n",
        "\n",
        "        Q = self.linear_q(x_to)  # [batch_size, x_to_len, hidden_dim]\n",
        "        K = self.linear_k(x_from)  # [batch_size, x_from_len, hidden_dim]\n",
        "        V = self.linear_v(x_from)  # [batch_size, x_from_len, hidden_dim]\n",
        "\n",
        "        #####\n",
        "        # reshape Q K V for multi-head attention\n",
        "        Q = Q.view(batch_size, x_to_len, self.n_heads, self.head_dim).transpose(1, 2)  # [batch_size, n_heads, x_to_len, head_dim]\n",
        "        K = K.view(batch_size, x_from_len, self.n_heads, self.head_dim).transpose(1, 2)  # [batch_size, n_heads, x_from_len, head_dim]\n",
        "        V = V.view(batch_size, x_from_len, self.n_heads, self.head_dim).transpose(1, 2)  # [batch_size, n_heads, x_from_len, head_dim]\n",
        "\n",
        "        attention_scores = torch.einsum('bnqd,bnkd->bnqk', Q, K) / self.scale\n",
        "\n",
        "        # softmax to get attention weights\n",
        "        attention_weights = F.softmax(attention_scores, dim=-1)\n",
        "\n",
        "        # attention weights to values using einsum\n",
        "        out = torch.einsum('bnqk,bnvd->bnqd', attention_weights, V)\n",
        "\n",
        "        #concat heads and apply output projection\n",
        "        out = out.transpose(1, 2).contiguous().view(batch_size,x_to_len,self.hidden_dim)\n",
        "        output = self.output_linear(out)\n",
        "        ######\n",
        "        return output"
      ]
    },
    {
      "cell_type": "markdown",
      "metadata": {
        "id": "JvOWL_zrQqGu"
      },
      "source": [
        "MultiheadAttention is the attention that is used in transformers in pratice. It is used in 2 flavors:\n",
        "- Self Attention: When $X_{to}$ attends itself ($X_{to}=X_{from}$)\n",
        "- Cross Attention. $X_{to}\\neq X_{from}$\n",
        "\n",
        "\n",
        "#### Question 3.\n",
        "Implement MultiHead Self Attention and MultiHeadCrossAttention"
      ]
    },
    {
      "cell_type": "code",
      "execution_count": 5,
      "metadata": {
        "id": "pjwscVQ-QqGu"
      },
      "outputs": [],
      "source": [
        "class MultiHeadSelfAttention(MultiHeadAttention):\n",
        "    def __init__(self, x_dim, hidden_dim, n_heads):\n",
        "        # To complete\n",
        "        super(MultiHeadSelfAttention, self).__init__(x_to_dim=x_dim, x_from_dim=x_dim,\n",
        "                                                     hidden_dim=hidden_dim, n_heads=n_heads)\n",
        "\n",
        "    def forward(self, x):\n",
        "        # x = [batch size, x_len, x_dim]\n",
        "        # To complete\n",
        "        return super(MultiHeadSelfAttention, self).forward(x_to=x, x_from=x)\n",
        "\n",
        "class MultiHeadCrossAttention(MultiHeadAttention):\n",
        "    def __init__(self, x_to_dim, x_from_dim, hidden_dim, n_heads):\n",
        "        # To complete\n",
        "        super(MultiHeadCrossAttention, self).__init__(x_to_dim=x_to_dim, x_from_dim=x_from_dim,\n",
        "                                                     hidden_dim=hidden_dim, n_heads=n_heads)\n",
        "\n",
        "    def forward(self, x_to, x_from):\n",
        "        # x_to = [batch size, x_to_len, x_to_dim]\n",
        "        # x_from = [batch size, x_from_len, x_from_dim]\n",
        "\n",
        "        # To complete\n",
        "        return super(MultiHeadCrossAttention, self).forward(x_to=x_to, x_from=x_from)"
      ]
    },
    {
      "cell_type": "markdown",
      "metadata": {
        "id": "PVmrKOpKQqGu"
      },
      "source": [
        "### LayerNorm\n",
        "Another key component of the transformer is the LayerNorm. As we have previously seen, normalizing the output of a deep learning layer helps a lot with convergence and stability.\n",
        "Until Transformers, the most used normalization is BatchNorm. We normalize the data among the batch dimension. However, this has a few problems.\n",
        "- The normalization depend on the other samples in the batch\n",
        "- When using multiple GPUs, BatchNorm needs to synchronize the batch statistic across GPUs, which locks the forward process and slow down training.\n",
        "\n",
        "The last element is the most important one. Transformers, aims to be a easy to parralilize architecture and can't afford to use batchnorm.\n",
        "\n",
        "Instead, Transformers uses Layer Norm. LayerNorm is sample dependent, which removes the synchronization issue. We normalize over the channel dimension instead of the batch dimension.\n",
        "\n",
        "<img src=\"https://production-media.paperswithcode.com/methods/Screen_Shot_2020-05-19_at_4.24.42_PM.png\">\n",
        "\n",
        "To account for the loss of capacity, we map the output by a linear transformation with a learned bias and scale.\n",
        "\n",
        "#### Question 4.\n",
        "Implement the LayerNorm"
      ]
    },
    {
      "cell_type": "code",
      "execution_count": 6,
      "metadata": {
        "id": "VSNVM-koQqGu"
      },
      "outputs": [],
      "source": [
        "class LayerNorm(nn.Module):\n",
        "    # To complete\n",
        "    def __init__(self, parameters_shape, dim_to_norm=-1, eps=1e-5):\n",
        "        super(LayerNorm, self).__init__()\n",
        "        self.parameters_shape = parameters_shape\n",
        "        self.eps = eps\n",
        "        self.dim_to_norm = dim_to_norm\n",
        "\n",
        "        #learnable parameters\n",
        "        self.gamma = nn.Parameter(torch.ones(parameters_shape))\n",
        "        self.beta = nn.Parameter(torch.zeros(parameters_shape))\n",
        "\n",
        "    def forward(self, x):\n",
        "        mean = x.mean(dim=self.dim_to_norm, keepdim=True)\n",
        "        var = x.var(dim=self.dim_to_norm, keepdim=True, unbiased=False)\n",
        "\n",
        "        x_normalized = (x - mean) / torch.sqrt(var + self.eps)\n",
        "\n",
        "        return self.gamma * x_normalized + self.beta\n",
        "\n"
      ]
    },
    {
      "cell_type": "markdown",
      "metadata": {
        "id": "DvXarGQKQqGu"
      },
      "source": [
        "### Feed Feedward Network\n",
        "\n",
        "Finally, the last block is a feed-forward network with one hidden layer. This layer has usually a size of $2 * input\\_dim$. This is followed by a dropout layer and an activation function. Here, we will use leaky relu, with a leak parameter of 0.1.\n",
        "\n",
        "#### Question 5.\n",
        "Implement the FFN layer"
      ]
    },
    {
      "cell_type": "code",
      "execution_count": 7,
      "metadata": {
        "id": "RjVZu9ujQqGu"
      },
      "outputs": [],
      "source": [
        "class FFN(nn.Sequential):\n",
        "    def __init__(self, hidden_dim, dropout_rate=0.1, expansion_factor=2):\n",
        "        # To complete\n",
        "        super(FFN, self).__init__(\n",
        "            nn.Linear(hidden_dim, hidden_dim * expansion_factor),\n",
        "            nn.LeakyReLU(negative_slope=0.1),\n",
        "            nn.Dropout(dropout_rate),\n",
        "            nn.Linear(hidden_dim * expansion_factor, hidden_dim)\n",
        "        )"
      ]
    },
    {
      "cell_type": "markdown",
      "metadata": {
        "id": "qbbLC6VZQqGu"
      },
      "source": [
        "### The Transformer block\n",
        "\n",
        "The last thing that we are missing are the skip connection. Like in ResNet, the transformer architecture implements the skip-connection. This allow for a better gradient flow avoiding vanishing gradient.\n",
        "There is a skip connection after the attention and the feed forward network\n",
        "\n",
        "#### Question 6.\n",
        "Given at the transformer figure at the top, implement the Transformer Encoder Block"
      ]
    },
    {
      "cell_type": "code",
      "execution_count": 8,
      "metadata": {
        "id": "Zci4MBmWQqGu"
      },
      "outputs": [],
      "source": [
        "class TransformerEncoderBlock(nn.Module):\n",
        "    def __init__(self ,data_dim, hidden_dim, n_heads, dropout_rate=0.1):\n",
        "        # To complete\n",
        "        super(TransformerEncoderBlock, self).__init__()\n",
        "\n",
        "\n",
        "        self.multi_head_attention = MultiHeadSelfAttention(data_dim, hidden_dim, n_heads)\n",
        "        self.layer_norm1 = LayerNorm(hidden_dim)\n",
        "        self.ffn = FFN(hidden_dim, dropout_rate=dropout_rate)\n",
        "        self.layer_norm2 = LayerNorm(hidden_dim)\n",
        "\n",
        "\n",
        "    def forward(self, x):\n",
        "        # x = [batch size, x_len, hidden dim]\n",
        "        # To complete\n",
        "        multi_head_attention_output = self.multi_head_attention(x)\n",
        "        x = self.layer_norm1(x + multi_head_attention_output)\n",
        "\n",
        "        ffn_output = self.ffn(x)\n",
        "        x = self.layer_norm2(x + ffn_output)\n",
        "        return x\n"
      ]
    },
    {
      "cell_type": "markdown",
      "metadata": {
        "id": "mmmNJlZFQqGu"
      },
      "source": [
        "### Positional embedding\n",
        "The transformers architecture is permutation independent. That means that for every token, we can swap 2 tokens and have the exact same result. However, the position of the token can be a very important information to consider. Imagine in an image. If a pixel is nearby another pixel, we want the transformer to be able to capture such information. Which is not the case for now.\n",
        "That's why we introduce positional encodings. For each token, add the positional encoding to the original token:\n",
        "\n",
        "$$\n",
        "X_i = X_i + PE(i)\n",
        "$$\n",
        "\n",
        "with X_i the token at the i dimension.\n",
        "\n",
        "The most used positional encodings are sinusoidal encodings. They are defined as follow:\n",
        "\n",
        "$$\n",
        "PE(i, 2j) = sin(i / 10000^{\\frac{2j}{d}}) \\\\\n",
        "PE(i, 2j + 1) = cos(i / 10000^{\\frac{2j}{d}})\n",
        "$$\n",
        "\n",
        "\n",
        "Where $d$ the dimension of the tokens, $i$, the i-th token in the sequence and $2j$ (resp $2j + 1$), the index of the dimension of the vector.\n",
        "The idea here is that we add a sinusoidal that encode the position in a multidimensional array.\n",
        "\n",
        "Another common positional encodings is the learned positional encoding. Simply, we let the network learn a set of tensor $PE$ that match the sequence length and dimension of the tokens.\n",
        "\n",
        "#### Question 7.\n",
        "\n",
        "Implement both Sinusoidal and Learned positional embeddings"
      ]
    },
    {
      "cell_type": "code",
      "execution_count": 9,
      "metadata": {
        "id": "o6rK8aYeQqGu"
      },
      "outputs": [],
      "source": [
        "class SinusoidalPositionalEncoding(nn.Module):\n",
        "    def __init__(self, hidden_dim):\n",
        "        super(SinusoidalPositionalEncoding, self).__init__()\n",
        "        self.hidden_dim = hidden_dim\n",
        "\n",
        "    def forward(self, x):\n",
        "        # x = [batch size, seq len, hidden dim]\n",
        "        batch_size, seq_len, _ = x.shape\n",
        "        # Tensor for positional encodings, no batch dimension needed\n",
        "        PE_mat = torch.zeros(seq_len, self.hidden_dim, device=x.device)\n",
        "\n",
        "        position = torch.arange(seq_len).unsqueeze(1)  # [seq_len, 1]\n",
        "\n",
        "        # div_term calculation adjusted for the entire hidden_dim\n",
        "        #log for numerical stability and exp to adhere back to formula\n",
        "        div_term = torch.exp(torch.arange(0, self.hidden_dim, 2).float() * -(torch.log(torch.tensor(10000.0)) / (self.hidden_dim // 2)))\n",
        "\n",
        "        # sin to even indices\n",
        "        PE_mat[:, 0::2] = torch.sin(position * div_term)  # [seq_len, hidden_dim/2]\n",
        "\n",
        "        # cos to odd indices\n",
        "        PE_mat[:, 1::2] = torch.cos(position * div_term)  # [seq_len, hidden_dim/2]\n",
        "\n",
        "        # expand to match batch size\n",
        "        PE_mat = PE_mat.unsqueeze(0).expand(batch_size, -1, -1)  # [batch_size, seq_len, hidden_dim]\n",
        "\n",
        "        return x + PE_mat\n",
        "\n",
        "class LearnedPositionalEncoding(nn.Module):\n",
        "    def __init__(self, hidden_dim, max_len):\n",
        "        # To complete\n",
        "        super(LearnedPositionalEncoding, self).__init__()\n",
        "        self.hidden_dim = hidden_dim\n",
        "        self.max_len = max_len\n",
        "        #learnable param\n",
        "        self.PE = nn.Parameter(torch.randn(1, max_len, hidden_dim))\n",
        "\n",
        "\n",
        "    def forward(self, x):\n",
        "        # x = [batch size, seq len, hidden dim]\n",
        "        # To complete\n",
        "        batch_size, seq_len, _ = x.shape\n",
        "        PE_mat = self.PE[:, :seq_len, :].to(x.device)\n",
        "        # match batch size\n",
        "        PE_mat = PE_mat.expand(batch_size, -1, -1)\n",
        "        return x + PE_mat"
      ]
    },
    {
      "cell_type": "markdown",
      "metadata": {
        "id": "uJdpld00QqGu"
      },
      "source": [
        "### The transformer encoder\n",
        "Now you have everything you need to implement the transformer . You add positional encoding to the tokens and then stack N transformer encoder layers\n",
        "\n",
        "#### Question 8.\n",
        "Implement the transformer encoder with n_layers and the ability to choose both positional embeddings.\n",
        "\n",
        "Tip: Look into `ModuleList`"
      ]
    },
    {
      "cell_type": "code",
      "execution_count": 10,
      "metadata": {
        "id": "scxhANBFQqGv"
      },
      "outputs": [],
      "source": [
        "class TransformerEncoder(nn.Module):\n",
        "    def __init__(self, data_dim,  hidden_dim, n_heads, n_layers, dropout_rate=0.1, positional_encoding=\"sinusoidal\", max_len=1000):\n",
        "        # To complete\n",
        "        super(TransformerEncoder, self).__init__()\n",
        "        self.positional_encoding = SinusoidalPositionalEncoding(hidden_dim) if positional_encoding == \"sinusoidal\" else LearnedPositionalEncoding(hidden_dim, max_len)\n",
        "        self.layers = nn.ModuleList([TransformerEncoderBlock(data_dim, hidden_dim, n_heads, dropout_rate) for _ in range(n_layers)])\n",
        "\n",
        "    def forward(self, x):\n",
        "        # x = [batch size, seq len, hidden dim]\n",
        "        # To complete\n",
        "        x = self.positional_encoding(x)\n",
        "        for layer in self.layers:\n",
        "            x = layer(x)\n",
        "        return x"
      ]
    },
    {
      "cell_type": "markdown",
      "metadata": {
        "id": "bz_VCLkvQqGv"
      },
      "source": [
        "# Part 2. Classical Architectures: ViT & CCT"
      ]
    },
    {
      "cell_type": "markdown",
      "metadata": {
        "id": "5zv_Tz2kQqGv"
      },
      "source": [
        "## The Vision Transformer\n",
        "The above architecture was introduced in 2017 to process sequences of text tokens. However, it could be useful to be able to leverage this architecture for computer vision. On the contrary of convolutional neural network, the transformer has the advantage to introduce less inductive bias.\n",
        "\n",
        "This could be interesting to leverage to improve vision systems. If we learn the biases from the data, we can hope to have better performances. We however need compute and a lot of data to do this.\n",
        "\n",
        "To apply the transformer to images, one key question remains to be answered: How do we transform an image to tokens? The approach introduce in Vision Transformers is to cut the image into patches that are then transformed into a token trhought a linear projection.\n",
        "\n",
        "We also add an extra token, known as the classification token, that will be the token which will be use to predict upon. After going through the N transformer layers, this is the token that goes throught a multi layer perceptron.\n",
        "\n",
        "\n",
        "<img src= \"https://1.bp.blogspot.com/-_mnVfmzvJWc/X8gMzhZ7SkI/AAAAAAAAG24/8gW2AHEoqUQrBwOqjhYB37A7OOjNyKuNgCLcBGAsYHQ/s1600/image1.gif\" width=\"512\">\n",
        "\n",
        "\n",
        "#### Question 9\n",
        "\n",
        "Implement the vision transformer\n",
        "\n",
        "Hint: Use Conv2D with the right kernel size and stride to do the linear projection of non-overlapping patches."
      ]
    },
    {
      "cell_type": "code",
      "execution_count": 11,
      "metadata": {
        "id": "-kBLyLg5QqGv"
      },
      "outputs": [],
      "source": [
        "class ViT(nn.Module):\n",
        "    def __init__(self, patch_size, hidden_dim, n_heads, n_layers, dropout_rate=0.1, positional_encoding=\"sinusoidal\", max_len=1000, n_classes=10):\n",
        "        super(ViT, self).__init__()\n",
        "        # To complete\n",
        "\n",
        "        self.patch_size = patch_size\n",
        "        self.patch_embedding = nn.Conv2d(in_channels=3, out_channels=hidden_dim,\n",
        "                                         kernel_size=patch_size, stride=patch_size)\n",
        "        self.transformer_encoder = TransformerEncoder(hidden_dim, hidden_dim, n_heads, n_layers, dropout_rate, positional_encoding, max_len)\n",
        "        self.classification_token = nn.Parameter(torch.randn(1, 1, hidden_dim))\n",
        "\n",
        "        self.mlp_head = nn.Linear(hidden_dim, n_classes)\n",
        "\n",
        "\n",
        "    def forward(self, x):\n",
        "        # x = [batch size, 3, image height, image width]\n",
        "        batch_size, _, height, width = x.shape\n",
        "        # To complete\n",
        "\n",
        "        # seperate each image into patches\n",
        "        x = self.patch_embedding(x)  # [batch_size, hidden_dim, height/patch_size, width/patch_size]\n",
        "        x = x.flatten(2).transpose(1, 2)  #[batch_size, num_patches, hidden_dim]\n",
        "\n",
        "        # add classification token to the sequence\n",
        "        cls_tokens = self.classification_token.expand(batch_size, -1, -1)\n",
        "        x = torch.cat((cls_tokens, x), dim=1)\n",
        "\n",
        "        # pass through transformer encoder\n",
        "        x = self.transformer_encoder(x)\n",
        "\n",
        "        # classification token goes through the final MLP\n",
        "        cls_token = x[:, 0, :]\n",
        "        x = self.mlp_head(cls_token)\n",
        "\n",
        "        return x\n"
      ]
    },
    {
      "cell_type": "markdown",
      "metadata": {
        "id": "P327yRW6QqGv"
      },
      "source": [
        "#### Question 10.\n",
        "Train a ViT on CIFAR10 for 100 epochs (for compute reason you can use only 20 epochs) and log both train and test loss and accuracy.\n",
        "We provide a data augmentation strategy called auto augment to avoid overfitting on the training data.\n",
        "Hparameters are to be choosen to your discretion.\n",
        "\n",
        "\n",
        "Tips for Hparams:\n",
        "- Don't use a transformer hidden dim too big (<256)\n",
        "- Use a small patch size\n",
        "- Use AdamW with some weight decay to avoid overfitting\n",
        "- Use between 2 and 6 transformer layers.\n",
        "- Use between 2 and 4 transformer heads"
      ]
    },
    {
      "cell_type": "code",
      "execution_count": 12,
      "metadata": {
        "id": "fCS02hPLQqGv",
        "colab": {
          "base_uri": "https://localhost:8080/"
        },
        "outputId": "ca5947ec-ea34-4d33-b662-f67e1de71ecc"
      },
      "outputs": [
        {
          "output_type": "stream",
          "name": "stdout",
          "text": [
            "Downloading https://www.cs.toronto.edu/~kriz/cifar-10-python.tar.gz to ./data/cifar-10-python.tar.gz\n"
          ]
        },
        {
          "output_type": "stream",
          "name": "stderr",
          "text": [
            "100%|██████████| 170M/170M [00:05<00:00, 32.1MB/s]\n"
          ]
        },
        {
          "output_type": "stream",
          "name": "stdout",
          "text": [
            "Extracting ./data/cifar-10-python.tar.gz to ./data\n"
          ]
        },
        {
          "output_type": "stream",
          "name": "stderr",
          "text": [
            "/usr/local/lib/python3.11/dist-packages/torch/utils/data/dataloader.py:617: UserWarning: This DataLoader will create 4 worker processes in total. Our suggested max number of worker in current system is 2, which is smaller than what this DataLoader is going to create. Please be aware that excessive worker creation might get DataLoader running slow or even freeze, lower the worker number to avoid potential slowness/freeze if necessary.\n",
            "  warnings.warn(\n"
          ]
        },
        {
          "output_type": "stream",
          "name": "stdout",
          "text": [
            "Files already downloaded and verified\n"
          ]
        }
      ],
      "source": [
        "batch_size = 128\n",
        "train_set = CIFAR10(root='./data', train=True, download=True, transform=transforms.Compose([\n",
        "    transforms.autoaugment.AutoAugment(policy=transforms.AutoAugmentPolicy.CIFAR10),\n",
        "    transforms.ToTensor(),\n",
        "    transforms.Normalize((0.4914, 0.4822, 0.4465), (0.2470, 0.2435, 0.2616))\n",
        "]))\n",
        "\n",
        "train_loader = DataLoader(train_set, batch_size=batch_size, shuffle=True, num_workers=4)\n",
        "\n",
        "test_set = CIFAR10(root='./data', train=False, download=True, transform=transforms.Compose([\n",
        "    transforms.ToTensor(),\n",
        "    transforms.Normalize((0.4914, 0.4822, 0.4465), (0.2470, 0.2435, 0.2616))\n",
        "]))\n",
        "\n",
        "test_loader = DataLoader(test_set, batch_size=batch_size, shuffle=False, num_workers=4)"
      ]
    },
    {
      "cell_type": "code",
      "execution_count": 19,
      "metadata": {
        "id": "CrGbrYbJQqGv",
        "colab": {
          "base_uri": "https://localhost:8080/"
        },
        "outputId": "6f01f2e8-6d94-4443-d8bd-f52cee222ef1"
      },
      "outputs": [
        {
          "output_type": "stream",
          "name": "stdout",
          "text": [
            "Epoch [1/100]\n",
            "Train Loss: 2.1560, Train Accuracy: 19.10%\n",
            "Test Loss: 1.9399, Test Accuracy: 27.99%\n",
            "Epoch [2/100]\n",
            "Train Loss: 2.0297, Train Accuracy: 24.39%\n",
            "Test Loss: 1.8227, Test Accuracy: 32.92%\n",
            "Epoch [3/100]\n",
            "Train Loss: 1.9473, Train Accuracy: 28.13%\n",
            "Test Loss: 1.7603, Test Accuracy: 35.68%\n",
            "Epoch [4/100]\n",
            "Train Loss: 1.8999, Train Accuracy: 30.07%\n",
            "Test Loss: 1.7000, Test Accuracy: 38.14%\n",
            "Epoch [5/100]\n",
            "Train Loss: 1.8553, Train Accuracy: 31.57%\n",
            "Test Loss: 1.6590, Test Accuracy: 39.73%\n",
            "Epoch [6/100]\n",
            "Train Loss: 1.8172, Train Accuracy: 33.28%\n",
            "Test Loss: 1.6015, Test Accuracy: 42.15%\n",
            "Epoch [7/100]\n",
            "Train Loss: 1.7888, Train Accuracy: 34.20%\n",
            "Test Loss: 1.5876, Test Accuracy: 41.73%\n",
            "Epoch [8/100]\n",
            "Train Loss: 1.7601, Train Accuracy: 35.83%\n",
            "Test Loss: 1.5631, Test Accuracy: 42.58%\n",
            "Epoch [9/100]\n",
            "Train Loss: 1.7400, Train Accuracy: 36.17%\n",
            "Test Loss: 1.5278, Test Accuracy: 44.16%\n",
            "Epoch [10/100]\n",
            "Train Loss: 1.7195, Train Accuracy: 36.91%\n",
            "Test Loss: 1.5037, Test Accuracy: 45.44%\n",
            "Epoch [11/100]\n",
            "Train Loss: 1.7047, Train Accuracy: 37.57%\n",
            "Test Loss: 1.5284, Test Accuracy: 45.30%\n",
            "Epoch [12/100]\n",
            "Train Loss: 1.6973, Train Accuracy: 37.87%\n",
            "Test Loss: 1.5269, Test Accuracy: 44.97%\n",
            "Epoch [13/100]\n",
            "Train Loss: 1.6799, Train Accuracy: 38.47%\n",
            "Test Loss: 1.5414, Test Accuracy: 43.74%\n",
            "Epoch [14/100]\n",
            "Train Loss: 1.6688, Train Accuracy: 38.99%\n",
            "Test Loss: 1.4668, Test Accuracy: 46.48%\n",
            "Epoch [15/100]\n",
            "Train Loss: 1.6597, Train Accuracy: 39.27%\n",
            "Test Loss: 1.4475, Test Accuracy: 47.68%\n",
            "Epoch [16/100]\n",
            "Train Loss: 1.6502, Train Accuracy: 39.80%\n",
            "Test Loss: 1.4472, Test Accuracy: 47.60%\n",
            "Epoch [17/100]\n",
            "Train Loss: 1.6339, Train Accuracy: 40.26%\n",
            "Test Loss: 1.4328, Test Accuracy: 47.79%\n",
            "Epoch [18/100]\n",
            "Train Loss: 1.6291, Train Accuracy: 40.23%\n",
            "Test Loss: 1.4211, Test Accuracy: 48.47%\n",
            "Epoch [19/100]\n",
            "Train Loss: 1.6199, Train Accuracy: 40.85%\n",
            "Test Loss: 1.4129, Test Accuracy: 48.65%\n",
            "Epoch [20/100]\n",
            "Train Loss: 1.6101, Train Accuracy: 41.22%\n",
            "Test Loss: 1.4207, Test Accuracy: 48.66%\n",
            "Epoch [21/100]\n",
            "Train Loss: 1.6035, Train Accuracy: 41.42%\n",
            "Test Loss: 1.4005, Test Accuracy: 48.81%\n",
            "Epoch [22/100]\n",
            "Train Loss: 1.5940, Train Accuracy: 41.89%\n",
            "Test Loss: 1.4020, Test Accuracy: 49.12%\n",
            "Epoch [23/100]\n",
            "Train Loss: 1.5848, Train Accuracy: 42.23%\n",
            "Test Loss: 1.3910, Test Accuracy: 49.58%\n",
            "Epoch [24/100]\n",
            "Train Loss: 1.5816, Train Accuracy: 42.67%\n",
            "Test Loss: 1.4005, Test Accuracy: 48.97%\n",
            "Epoch [25/100]\n",
            "Train Loss: 1.5752, Train Accuracy: 42.82%\n",
            "Test Loss: 1.3857, Test Accuracy: 49.34%\n",
            "Epoch [26/100]\n",
            "Train Loss: 1.5692, Train Accuracy: 42.99%\n",
            "Test Loss: 1.3667, Test Accuracy: 50.73%\n",
            "Epoch [27/100]\n",
            "Train Loss: 1.5628, Train Accuracy: 42.95%\n",
            "Test Loss: 1.3797, Test Accuracy: 50.02%\n",
            "Epoch [28/100]\n",
            "Train Loss: 1.5587, Train Accuracy: 43.59%\n",
            "Test Loss: 1.3973, Test Accuracy: 50.36%\n",
            "Epoch [29/100]\n",
            "Train Loss: 1.5493, Train Accuracy: 43.79%\n",
            "Test Loss: 1.3674, Test Accuracy: 50.34%\n",
            "Epoch [30/100]\n",
            "Train Loss: 1.5413, Train Accuracy: 44.06%\n",
            "Test Loss: 1.3675, Test Accuracy: 50.29%\n",
            "Epoch [31/100]\n",
            "Train Loss: 1.5437, Train Accuracy: 43.98%\n",
            "Test Loss: 1.3600, Test Accuracy: 51.58%\n",
            "Epoch [32/100]\n",
            "Train Loss: 1.5337, Train Accuracy: 44.26%\n",
            "Test Loss: 1.3638, Test Accuracy: 50.38%\n",
            "Epoch [33/100]\n",
            "Train Loss: 1.5290, Train Accuracy: 44.74%\n",
            "Test Loss: 1.3591, Test Accuracy: 50.43%\n",
            "Epoch [34/100]\n",
            "Train Loss: 1.5284, Train Accuracy: 44.44%\n",
            "Test Loss: 1.3455, Test Accuracy: 51.04%\n",
            "Epoch [35/100]\n",
            "Train Loss: 1.5234, Train Accuracy: 44.65%\n",
            "Test Loss: 1.3659, Test Accuracy: 50.72%\n",
            "Epoch [36/100]\n",
            "Train Loss: 1.5225, Train Accuracy: 44.83%\n",
            "Test Loss: 1.3251, Test Accuracy: 52.30%\n",
            "Epoch [37/100]\n",
            "Train Loss: 1.5203, Train Accuracy: 44.87%\n",
            "Test Loss: 1.3288, Test Accuracy: 52.00%\n",
            "Epoch [38/100]\n",
            "Train Loss: 1.5099, Train Accuracy: 45.33%\n",
            "Test Loss: 1.3269, Test Accuracy: 51.68%\n",
            "Epoch [39/100]\n",
            "Train Loss: 1.5100, Train Accuracy: 44.95%\n",
            "Test Loss: 1.3539, Test Accuracy: 51.14%\n",
            "Epoch [40/100]\n",
            "Train Loss: 1.5027, Train Accuracy: 45.46%\n",
            "Test Loss: 1.3176, Test Accuracy: 52.17%\n",
            "Epoch [41/100]\n",
            "Train Loss: 1.5037, Train Accuracy: 45.53%\n",
            "Test Loss: 1.3218, Test Accuracy: 52.26%\n",
            "Epoch [42/100]\n",
            "Train Loss: 1.4987, Train Accuracy: 45.91%\n",
            "Test Loss: 1.3357, Test Accuracy: 52.15%\n",
            "Epoch [43/100]\n",
            "Train Loss: 1.4916, Train Accuracy: 46.03%\n",
            "Test Loss: 1.3335, Test Accuracy: 51.76%\n",
            "Epoch [44/100]\n",
            "Train Loss: 1.4886, Train Accuracy: 46.40%\n",
            "Test Loss: 1.3189, Test Accuracy: 51.99%\n",
            "Epoch [45/100]\n",
            "Train Loss: 1.4883, Train Accuracy: 46.15%\n",
            "Test Loss: 1.3255, Test Accuracy: 51.99%\n",
            "Epoch [46/100]\n",
            "Train Loss: 1.4795, Train Accuracy: 46.63%\n",
            "Test Loss: 1.3089, Test Accuracy: 52.89%\n",
            "Epoch [47/100]\n",
            "Train Loss: 1.4818, Train Accuracy: 46.33%\n",
            "Test Loss: 1.3204, Test Accuracy: 52.77%\n",
            "Epoch [48/100]\n",
            "Train Loss: 1.4697, Train Accuracy: 46.80%\n",
            "Test Loss: 1.3151, Test Accuracy: 52.78%\n",
            "Epoch [49/100]\n",
            "Train Loss: 1.4764, Train Accuracy: 46.54%\n",
            "Test Loss: 1.2995, Test Accuracy: 52.98%\n",
            "Epoch [50/100]\n",
            "Train Loss: 1.4710, Train Accuracy: 46.90%\n",
            "Test Loss: 1.3114, Test Accuracy: 52.58%\n",
            "Epoch [51/100]\n",
            "Train Loss: 1.4739, Train Accuracy: 46.52%\n",
            "Test Loss: 1.3021, Test Accuracy: 52.89%\n",
            "Epoch [52/100]\n",
            "Train Loss: 1.4648, Train Accuracy: 47.20%\n",
            "Test Loss: 1.2959, Test Accuracy: 53.36%\n",
            "Epoch [53/100]\n",
            "Train Loss: 1.4614, Train Accuracy: 47.07%\n",
            "Test Loss: 1.3061, Test Accuracy: 52.51%\n",
            "Epoch [54/100]\n",
            "Train Loss: 1.4618, Train Accuracy: 47.11%\n",
            "Test Loss: 1.2769, Test Accuracy: 53.57%\n",
            "Epoch [55/100]\n",
            "Train Loss: 1.4597, Train Accuracy: 47.66%\n",
            "Test Loss: 1.3113, Test Accuracy: 52.62%\n",
            "Epoch [56/100]\n",
            "Train Loss: 1.4558, Train Accuracy: 47.43%\n",
            "Test Loss: 1.2958, Test Accuracy: 53.30%\n",
            "Epoch [57/100]\n",
            "Train Loss: 1.4487, Train Accuracy: 47.57%\n",
            "Test Loss: 1.2933, Test Accuracy: 53.41%\n",
            "Epoch [58/100]\n",
            "Train Loss: 1.4467, Train Accuracy: 47.75%\n",
            "Test Loss: 1.3056, Test Accuracy: 52.53%\n",
            "Epoch [59/100]\n",
            "Train Loss: 1.4501, Train Accuracy: 47.57%\n",
            "Test Loss: 1.2818, Test Accuracy: 54.00%\n",
            "Epoch [60/100]\n",
            "Train Loss: 1.4392, Train Accuracy: 47.98%\n",
            "Test Loss: 1.3038, Test Accuracy: 52.31%\n",
            "Epoch [61/100]\n",
            "Train Loss: 1.4433, Train Accuracy: 48.04%\n",
            "Test Loss: 1.2809, Test Accuracy: 54.16%\n",
            "Epoch [62/100]\n",
            "Train Loss: 1.4330, Train Accuracy: 48.12%\n",
            "Test Loss: 1.3095, Test Accuracy: 53.58%\n",
            "Epoch [63/100]\n",
            "Train Loss: 1.4391, Train Accuracy: 48.37%\n",
            "Test Loss: 1.2981, Test Accuracy: 53.34%\n",
            "Epoch [64/100]\n",
            "Train Loss: 1.4387, Train Accuracy: 48.01%\n",
            "Test Loss: 1.2923, Test Accuracy: 53.69%\n",
            "Epoch [65/100]\n",
            "Train Loss: 1.4355, Train Accuracy: 48.34%\n",
            "Test Loss: 1.2717, Test Accuracy: 54.27%\n",
            "Epoch [66/100]\n",
            "Train Loss: 1.4325, Train Accuracy: 48.20%\n",
            "Test Loss: 1.2761, Test Accuracy: 54.16%\n",
            "Epoch [67/100]\n",
            "Train Loss: 1.4262, Train Accuracy: 48.36%\n",
            "Test Loss: 1.2683, Test Accuracy: 54.59%\n",
            "Epoch [68/100]\n",
            "Train Loss: 1.4291, Train Accuracy: 48.55%\n",
            "Test Loss: 1.2791, Test Accuracy: 53.81%\n",
            "Epoch [69/100]\n",
            "Train Loss: 1.4203, Train Accuracy: 48.73%\n",
            "Test Loss: 1.2733, Test Accuracy: 54.43%\n",
            "Epoch [70/100]\n",
            "Train Loss: 1.4194, Train Accuracy: 48.72%\n",
            "Test Loss: 1.2655, Test Accuracy: 54.61%\n",
            "Epoch [71/100]\n",
            "Train Loss: 1.4209, Train Accuracy: 48.83%\n",
            "Test Loss: 1.2951, Test Accuracy: 53.77%\n",
            "Epoch [72/100]\n",
            "Train Loss: 1.4212, Train Accuracy: 48.64%\n",
            "Test Loss: 1.2604, Test Accuracy: 54.13%\n",
            "Epoch [73/100]\n",
            "Train Loss: 1.4149, Train Accuracy: 48.94%\n",
            "Test Loss: 1.2657, Test Accuracy: 54.37%\n",
            "Epoch [74/100]\n",
            "Train Loss: 1.4185, Train Accuracy: 48.91%\n",
            "Test Loss: 1.2704, Test Accuracy: 54.13%\n",
            "Epoch [75/100]\n",
            "Train Loss: 1.4033, Train Accuracy: 49.37%\n",
            "Test Loss: 1.2838, Test Accuracy: 54.56%\n",
            "Epoch [76/100]\n",
            "Train Loss: 1.4171, Train Accuracy: 49.05%\n",
            "Test Loss: 1.2604, Test Accuracy: 54.46%\n",
            "Epoch [77/100]\n",
            "Train Loss: 1.4106, Train Accuracy: 49.30%\n",
            "Test Loss: 1.2877, Test Accuracy: 53.91%\n",
            "Epoch [78/100]\n",
            "Train Loss: 1.4035, Train Accuracy: 49.41%\n",
            "Test Loss: 1.2556, Test Accuracy: 55.15%\n",
            "Epoch [79/100]\n",
            "Train Loss: 1.4076, Train Accuracy: 49.17%\n",
            "Test Loss: 1.2649, Test Accuracy: 54.54%\n",
            "Epoch [80/100]\n",
            "Train Loss: 1.4027, Train Accuracy: 49.49%\n",
            "Test Loss: 1.2685, Test Accuracy: 54.10%\n",
            "Epoch [81/100]\n",
            "Train Loss: 1.4012, Train Accuracy: 49.67%\n",
            "Test Loss: 1.2893, Test Accuracy: 54.55%\n",
            "Epoch [82/100]\n",
            "Train Loss: 1.4007, Train Accuracy: 49.55%\n",
            "Test Loss: 1.2622, Test Accuracy: 54.67%\n",
            "Epoch [83/100]\n",
            "Train Loss: 1.3964, Train Accuracy: 49.27%\n",
            "Test Loss: 1.2609, Test Accuracy: 54.48%\n",
            "Epoch [84/100]\n",
            "Train Loss: 1.4000, Train Accuracy: 49.62%\n",
            "Test Loss: 1.2688, Test Accuracy: 54.28%\n",
            "Epoch [85/100]\n",
            "Train Loss: 1.3945, Train Accuracy: 49.85%\n",
            "Test Loss: 1.2601, Test Accuracy: 54.71%\n",
            "Epoch [86/100]\n",
            "Train Loss: 1.3922, Train Accuracy: 49.96%\n",
            "Test Loss: 1.2588, Test Accuracy: 54.83%\n",
            "Epoch [87/100]\n",
            "Train Loss: 1.3911, Train Accuracy: 49.77%\n",
            "Test Loss: 1.2671, Test Accuracy: 54.64%\n",
            "Epoch [88/100]\n",
            "Train Loss: 1.3817, Train Accuracy: 50.24%\n",
            "Test Loss: 1.2667, Test Accuracy: 54.06%\n",
            "Epoch [89/100]\n",
            "Train Loss: 1.3834, Train Accuracy: 50.09%\n",
            "Test Loss: 1.2593, Test Accuracy: 54.79%\n",
            "Epoch [90/100]\n",
            "Train Loss: 1.3915, Train Accuracy: 49.65%\n",
            "Test Loss: 1.2550, Test Accuracy: 55.19%\n",
            "Epoch [91/100]\n",
            "Train Loss: 1.3854, Train Accuracy: 50.02%\n",
            "Test Loss: 1.2619, Test Accuracy: 54.97%\n",
            "Epoch [92/100]\n",
            "Train Loss: 1.3849, Train Accuracy: 50.02%\n",
            "Test Loss: 1.2676, Test Accuracy: 54.05%\n",
            "Epoch [93/100]\n",
            "Train Loss: 1.3847, Train Accuracy: 50.03%\n",
            "Test Loss: 1.2588, Test Accuracy: 54.81%\n",
            "Epoch [94/100]\n",
            "Train Loss: 1.3789, Train Accuracy: 50.47%\n",
            "Test Loss: 1.2577, Test Accuracy: 54.44%\n",
            "Epoch [95/100]\n",
            "Train Loss: 1.3796, Train Accuracy: 50.48%\n",
            "Test Loss: 1.2735, Test Accuracy: 54.34%\n",
            "Epoch [96/100]\n",
            "Train Loss: 1.3821, Train Accuracy: 50.24%\n",
            "Test Loss: 1.2671, Test Accuracy: 54.11%\n",
            "Epoch [97/100]\n",
            "Train Loss: 1.3819, Train Accuracy: 50.08%\n",
            "Test Loss: 1.2571, Test Accuracy: 55.08%\n",
            "Epoch [98/100]\n",
            "Train Loss: 1.3744, Train Accuracy: 50.75%\n",
            "Test Loss: 1.2489, Test Accuracy: 54.44%\n",
            "Epoch [99/100]\n",
            "Train Loss: 1.3700, Train Accuracy: 50.81%\n",
            "Test Loss: 1.2697, Test Accuracy: 54.58%\n",
            "Epoch [100/100]\n",
            "Train Loss: 1.3688, Train Accuracy: 50.91%\n",
            "Test Loss: 1.2579, Test Accuracy: 54.82%\n"
          ]
        }
      ],
      "source": [
        "\n",
        "import sys\n",
        "\n",
        "# To complete: train the model, (don't forget to test it)\n",
        "# hyperparameters\n",
        "patch_size = 16#4\n",
        "hidden_dim = 128\n",
        "n_heads = 4\n",
        "n_layers = 4\n",
        "dropout_rate = 0.1\n",
        "positional_encoding = \"learned\"#\"sinusoidal\"\n",
        "epochs = 100\n",
        "learning_rate = 0.001\n",
        "weight_decay = 0.01  # for AdamW\n",
        "\n",
        "\n",
        "\n",
        "model = ViT(patch_size=patch_size, hidden_dim=hidden_dim, n_heads=n_heads, n_layers=n_layers, dropout_rate=dropout_rate, positional_encoding=positional_encoding).to(device)\n",
        "\n",
        "# loss and optimizer\n",
        "criterion = nn.CrossEntropyLoss()\n",
        "optimizer = AdamW(model.parameters(), lr=learning_rate, weight_decay=weight_decay)\n",
        "\n",
        "#losses and accuracies to plot\n",
        "train_losses = []\n",
        "test_losses = []\n",
        "train_accuracies = []\n",
        "test_accuracies = []\n",
        "\n",
        "for epoch in range(epochs):\n",
        "    model.train()\n",
        "    train_loss = 0.0\n",
        "    correct = 0\n",
        "    total = 0\n",
        "\n",
        "    for images, labels in train_loader:\n",
        "        images, labels = images.to(device), labels.to(device)\n",
        "        optimizer.zero_grad()\n",
        "        outputs = model(images)\n",
        "\n",
        "        #print(f\"outputs shape: {outputs.shape}, labels shape: {labels.shape}\")\n",
        "        #print(f\"labels: {labels}\")\n",
        "        #print(f\"outputs: {outputs}\")\n",
        "\n",
        "        #sys.exit()\n",
        "        loss = criterion(outputs, labels)\n",
        "        loss.backward()\n",
        "\n",
        "        # Gradient clipping\n",
        "        nn.utils.clip_grad_norm_(model.parameters(), max_norm=1.0)\n",
        "\n",
        "        optimizer.step()\n",
        "\n",
        "        train_loss += loss.item()\n",
        "        _, predicted = outputs.max(1)\n",
        "        total += labels.size(0)\n",
        "        correct += predicted.eq(labels).sum().item()\n",
        "\n",
        "    # training metrics\n",
        "    train_loss /= len(train_loader)\n",
        "    train_acc = 100. * correct / total\n",
        "\n",
        "    # testing / validation\n",
        "    model.eval()\n",
        "    test_loss = 0.0\n",
        "    correct = 0\n",
        "    total = 0\n",
        "\n",
        "    with torch.no_grad():\n",
        "        for images, labels in test_loader:\n",
        "            images, labels = images.to(device), labels.to(device)\n",
        "            outputs = model(images)\n",
        "            loss = criterion(outputs, labels)\n",
        "\n",
        "            test_loss += loss.item()\n",
        "            _, predicted = outputs.max(1)\n",
        "            total += labels.size(0)\n",
        "            correct += predicted.eq(labels).sum().item()\n",
        "\n",
        "    # testing metrics\n",
        "    test_loss /= len(test_loader)\n",
        "    test_acc = 100. * correct / total\n",
        "\n",
        "    print(f'Epoch [{epoch+1}/{epochs}]')\n",
        "    print(f'Train Loss: {train_loss:.4f}, Train Accuracy: {train_acc:.2f}%')\n",
        "    print(f'Test Loss: {test_loss:.4f}, Test Accuracy: {test_acc:.2f}%')\n",
        "\n",
        "    train_losses.append(train_loss)\n",
        "    test_losses.append(test_loss)\n",
        "    train_accuracies.append(train_acc)\n",
        "    test_accuracies.append(test_acc)\n",
        "\n"
      ]
    },
    {
      "cell_type": "code",
      "execution_count": 20,
      "metadata": {
        "id": "6hrL17pjQqGv",
        "colab": {
          "base_uri": "https://localhost:8080/",
          "height": 487
        },
        "outputId": "b56f8dff-35c8-489a-a209-1f9121b97cdb"
      },
      "outputs": [
        {
          "output_type": "display_data",
          "data": {
            "text/plain": [
              "<Figure size 1000x500 with 1 Axes>"
            ],
            "image/png": "[encoded data removed]"
          },
          "metadata": {}
        }
      ],
      "source": [
        "# Plot the training and test loss\n",
        "\n",
        "#plot train_losses vs test_losses\n",
        "plt.figure(figsize=(10, 5))\n",
        "plt.plot(range(1, epochs+1), train_losses, label='Training Loss')\n",
        "plt.plot(range(1, epochs+1), test_losses, label='Testing Loss')\n",
        "plt.xlabel('Epoch')\n",
        "plt.ylabel('Loss')\n",
        "plt.title('Training and Testing Losses over Epochs')\n",
        "plt.legend()\n",
        "plt.grid(True)\n",
        "plt.show()\n"
      ]
    },
    {
      "cell_type": "code",
      "source": [
        "#plot train_accuracies vs test_accuracies\n",
        "plt.figure(figsize=(10, 5))\n",
        "plt.plot(range(1, epochs+1), train_accuracies, label='Training Accuracy')\n",
        "plt.plot(range(1, epochs+1), test_accuracies, label='Testing Accuracy')\n",
        "plt.xlabel('Epoch')\n",
        "plt.ylabel('Accuracy (%)')\n",
        "plt.title('Training and Testing Accuracies over Epochs')\n",
        "plt.legend()\n",
        "plt.grid(True)\n",
        "plt.show()\n",
        "\n",
        "# we kind of expect the starting accuracy to be ~10%\n",
        "# since there are 10 classes and the model is not pretrained (so it has random weights), it is effectively making random guesses"
      ],
      "metadata": {
        "colab": {
          "base_uri": "https://localhost:8080/",
          "height": 487
        },
        "id": "zP17bCA5BLtb",
        "outputId": "f7538c66-0431-404d-a408-38ef3d0593c2"
      },
      "execution_count": 21,
      "outputs": [
        {
          "output_type": "display_data",
          "data": {
            "text/plain": [
              "<Figure size 1000x500 with 1 Axes>"
            ],
            "image/png": "[encoded data removed]"
          },
          "metadata": {}
        }
      ]
    },
    {
      "cell_type": "markdown",
      "source": [
        " # BELOW IS BONUS"
      ],
      "metadata": {
        "id": "h5vUjCYpkK41"
      }
    },
    {
      "cell_type": "markdown",
      "metadata": {
        "id": "OYoOwt6rQqGv"
      },
      "source": [
        "## Compact Convolutional Transformer\n",
        "The previous network requires a lot of compute and data to be trained. As we mentionned before, the transformer removes the inductive bias of convnets which requires more data to be trained.\n",
        "\n",
        "To bypass this, let's try out another architecture. We will try an hybrid architecture that preserves the inductive biases of convolution but manages to use the transformer to add global learning.\n",
        "\n",
        "The first change is the tokenizer. We replace it with a ConvNet. Each convnet layer has a convolution, ReLU and maxpooling.\n",
        "The second change is to actually remove the classfication token and classify on top of a pooling of all tokens. The pooling is done with an attention like mechanism:\n",
        "- For each sample, we predict a scalar, that we compute the softmax over all the sample tokens.\n",
        "- We then do an weighted average pool by this softmax values over the tokens. The weight is given by the previous step\n",
        "\n",
        "More details see: https://arxiv.org/abs/2104.05704\n",
        "\n",
        "<img src= https://miro.medium.com/v2/resize:fit:720/format:webp/1*8diH01Fl7MhHRemLy9hUHw.png width=512>"
      ]
    },
    {
      "cell_type": "markdown",
      "metadata": {
        "id": "JxUE6DQvQqGv"
      },
      "source": [
        "#### Question 11.\n",
        "Implement the Convolutional based tokenizer and the SeqPool operationm"
      ]
    },
    {
      "cell_type": "code",
      "execution_count": null,
      "metadata": {
        "id": "H194VS99QqGv"
      },
      "outputs": [],
      "source": [
        "class ConvPatchEmbedding(nn.Module):\n",
        "    def __init__(self, n_layers, kernel_size, hidden_dim):\n",
        "        # To complete\n",
        "        pass\n",
        "\n",
        "    def forward(self, x):\n",
        "        # x = [batch size, 3, image height, image width]\n",
        "        # To complete\n",
        "        pass\n",
        "\n",
        "class SeqPool(nn.Module):\n",
        "    def __init__(self, hidden_dim):\n",
        "        # To complete\n",
        "        pass\n",
        "\n",
        "    def forward(self, x):\n",
        "        # x = [batch size, seq len, hidden dim]\n",
        "        # To complete\n",
        "        pass"
      ]
    },
    {
      "cell_type": "markdown",
      "metadata": {
        "id": "FA88_aPOQqGv"
      },
      "source": [
        "#### Question 12.\n",
        "\n",
        "Implement the Compact Convolutional Transformer."
      ]
    },
    {
      "cell_type": "code",
      "execution_count": null,
      "metadata": {
        "id": "FaLaCOvBQqGv"
      },
      "outputs": [],
      "source": [
        "class CCT(nn.Module):\n",
        "    def __init__(self, n_conv_layers, kernel_size,  n_transformer_layers, hidden_dim, n_heads, n_classes, dropout_rate=0.1):\n",
        "        # To complete\n",
        "        pass\n",
        "\n",
        "    def forward(self, x):\n",
        "        # x = [batch size, 3, image height, image width]\n",
        "        # To complete\n",
        "        pass"
      ]
    },
    {
      "cell_type": "markdown",
      "metadata": {
        "id": "Nf8jbhb6QqGv"
      },
      "source": [
        "#### Question 13.\n",
        "Train the CCT on CIFAR-10 for 100 epochs (for compute reason you can use only 20 epochs) and log both train and test loss and accuracy. You should obtain at least 75+% test accuracy, and observe a improvement compared to the previous ViT (Possible to get 90%+).\n",
        "We provide a data augmentation strategy called auto augment to avoid overfitting on the training data.\n",
        "Hparameters are to be choosen to your discretion.\n",
        "\n",
        "Tips for Hparams:\n",
        "- Don't use too big of a transformer hidden dim (<256)\n",
        "- For the convnet, aim to have between 32 and 128 output tokens.\n",
        "- Use AdamW with some weight decay to avoid overfitting\n",
        "- Use between 2 and 6 transformer layers.\n",
        "- Use between 2 and 4 transformer heads\n",
        "\n",
        "Training takes around 30min (depending of hparams)."
      ]
    },
    {
      "cell_type": "code",
      "execution_count": null,
      "metadata": {
        "id": "CWR8FggcQqGw"
      },
      "outputs": [],
      "source": [
        "batch_size = 128\n",
        "train_set = CIFAR10(root='./data', train=True, download=True, transform=transforms.Compose([\n",
        "    transforms.autoaugment.AutoAugment(policy=transforms.AutoAugmentPolicy.CIFAR10),\n",
        "    transforms.ToTensor(),\n",
        "    transforms.Normalize((0.4914, 0.4822, 0.4465), (0.2470, 0.2435, 0.2616))\n",
        "]))\n",
        "\n",
        "train_loader = DataLoader(train_set, batch_size=batch_size, shuffle=True, num_workers=4)\n",
        "\n",
        "test_set = CIFAR10(root='./data', train=False, download=True, transform=transforms.Compose([\n",
        "    transforms.ToTensor(),\n",
        "    transforms.Normalize((0.4914, 0.4822, 0.4465), (0.2470, 0.2435, 0.2616))\n",
        "]))\n",
        "\n",
        "test_loader = DataLoader(test_set, batch_size=batch_size, shuffle=False, num_workers=4)\n"
      ]
    },
    {
      "cell_type": "code",
      "execution_count": null,
      "metadata": {
        "id": "i8whO5sbQqGw"
      },
      "outputs": [],
      "source": [
        "# To complete: train the model, (don't forget to test it)"
      ]
    },
    {
      "cell_type": "code",
      "execution_count": null,
      "metadata": {
        "id": "HGGqTW-IQqGw"
      },
      "outputs": [],
      "source": [
        "# Plot the training and test loss"
      ]
    }
  ],
  "metadata": {
    "kernelspec": {
      "display_name": "Python 3",
      "name": "python3"
    },
    "language_info": {
      "name": "python"
    },
    "colab": {
      "provenance": [],
      "gpuType": "T4"
    },
    "accelerator": "GPU"
  },
  "nbformat": 4,
  "nbformat_minor": 0
}